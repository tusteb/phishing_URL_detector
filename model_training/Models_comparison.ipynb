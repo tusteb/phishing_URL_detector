{
 "cells": [
  {
   "cell_type": "markdown",
   "id": "98536891",
   "metadata": {},
   "source": [
    "# **Бинарная классификация при помощи ML и DL**"
   ]
  },
  {
   "cell_type": "markdown",
   "id": "8e7793f7",
   "metadata": {},
   "source": [
    "**Цель:** Классификация URL и IP на фишинговые/безопасные.\n",
    "\n",
    "**Использованные алгоритмы:** Logistic Regression (sklearn), Random Forest (sklearn), SVM (sklearn), Neural Network (keras).\n",
    "\n",
    "**Датасет:** Датасет состоит из 822010 записей — URL и классы (1 фишинговый/0 безопасный сайт).\n",
    "\n",
    "**Источник данных:** https://www.kaggle.com/datasets/harisudhan411/phishing-and-legitimate-urls/data"
   ]
  },
  {
   "cell_type": "markdown",
   "id": "8d50636c",
   "metadata": {},
   "source": [
    "**Загрузка библиотек:**"
   ]
  },
  {
   "cell_type": "code",
   "execution_count": null,
   "id": "c5e66517",
   "metadata": {},
   "outputs": [],
   "source": [
    "import pandas as pd\n",
    "import numpy as np\n",
    "import matplotlib.pyplot as plt\n",
    "import seaborn as sns\n",
    "import tensorflow as tf\n",
    "import re\n",
    "\n",
    "from sklearn.feature_extraction.text import TfidfVectorizer\n",
    "from sklearn.compose import ColumnTransformer\n",
    "from sklearn.pipeline import Pipeline\n",
    "from sklearn.linear_model import LogisticRegression\n",
    "from sklearn.ensemble import RandomForestClassifier\n",
    "from sklearn.svm import LinearSVC\n",
    "from sklearn.base import BaseEstimator, TransformerMixin\n",
    "from sklearn.preprocessing import StandardScaler\n",
    "from scikeras.wrappers import KerasClassifier\n",
    "from sklearn.model_selection import train_test_split\n",
    "from sklearn.metrics import (accuracy_score, \n",
    "                             precision_score, \n",
    "                             recall_score, \n",
    "                             f1_score, \n",
    "                             roc_auc_score,\n",
    "                             roc_curve,\n",
    "                             confusion_matrix, \n",
    "                             ConfusionMatrixDisplay)"
   ]
  },
  {
   "cell_type": "markdown",
   "id": "0c1d596c",
   "metadata": {},
   "source": [
    "**Загрузка датасета:**"
   ]
  },
  {
   "cell_type": "code",
   "execution_count": 3,
   "id": "1b97e2dc",
   "metadata": {},
   "outputs": [
    {
     "data": {
      "application/vnd.microsoft.datawrangler.viewer.v0+json": {
       "columns": [
        {
         "name": "index",
         "rawType": "int64",
         "type": "integer"
        },
        {
         "name": "url",
         "rawType": "object",
         "type": "string"
        },
        {
         "name": "status",
         "rawType": "int64",
         "type": "integer"
        }
       ],
       "ref": "3271e2f5-4b26-4d33-8391-8226ece59ea8",
       "rows": [
        [
         "70539",
         "https://www.icq-jcb.top/",
         "0"
        ],
        [
         "69318",
         "https://smcb-crad.com-men-indxe.7odrog.cn/",
         "0"
        ],
        [
         "183589",
         "https://pythonspot.com/en/python-network-sockets-programming-tutorial/",
         "1"
        ],
        [
         "43783",
         "https://jp-myappleuser.servehttp.com/?sopote",
         "0"
        ],
        [
         "48781",
         "http://saitama.ageo.me/tmps/5/",
         "0"
        ],
        [
         "755168",
         "amvp.pt",
         "0"
        ],
        [
         "314230",
         "webmail.mhcable.com/secure/www.paypal.com/websc-loading.php?_session=242f53bf2163397f3d9c85bbeba35d067a1f6db985df9789f84eebf09a286425",
         "0"
        ],
        [
         "346615",
         "commons.wikimedia.org/wiki/File:POL_Virtuti_Militari_Srebrny_BAR.svg",
         "1"
        ],
        [
         "428102",
         "sports.yahoo.com/mma/blog/cagewriter/post/Miguel-Torres-video-Can-a-smarter-fighter-be-a-?urn=mma-wp9917",
         "1"
        ],
        [
         "733243",
         "http://utsikta.com/po9840/Hand/index.htm",
         "0"
        ]
       ],
       "shape": {
        "columns": 2,
        "rows": 10
       }
      },
      "text/html": [
       "<div>\n",
       "<style scoped>\n",
       "    .dataframe tbody tr th:only-of-type {\n",
       "        vertical-align: middle;\n",
       "    }\n",
       "\n",
       "    .dataframe tbody tr th {\n",
       "        vertical-align: top;\n",
       "    }\n",
       "\n",
       "    .dataframe thead th {\n",
       "        text-align: right;\n",
       "    }\n",
       "</style>\n",
       "<table border=\"1\" class=\"dataframe\">\n",
       "  <thead>\n",
       "    <tr style=\"text-align: right;\">\n",
       "      <th></th>\n",
       "      <th>url</th>\n",
       "      <th>status</th>\n",
       "    </tr>\n",
       "  </thead>\n",
       "  <tbody>\n",
       "    <tr>\n",
       "      <th>70539</th>\n",
       "      <td>https://www.icq-jcb.top/</td>\n",
       "      <td>0</td>\n",
       "    </tr>\n",
       "    <tr>\n",
       "      <th>69318</th>\n",
       "      <td>https://smcb-crad.com-men-indxe.7odrog.cn/</td>\n",
       "      <td>0</td>\n",
       "    </tr>\n",
       "    <tr>\n",
       "      <th>183589</th>\n",
       "      <td>https://pythonspot.com/en/python-network-socke...</td>\n",
       "      <td>1</td>\n",
       "    </tr>\n",
       "    <tr>\n",
       "      <th>43783</th>\n",
       "      <td>https://jp-myappleuser.servehttp.com/?sopote</td>\n",
       "      <td>0</td>\n",
       "    </tr>\n",
       "    <tr>\n",
       "      <th>48781</th>\n",
       "      <td>http://saitama.ageo.me/tmps/5/</td>\n",
       "      <td>0</td>\n",
       "    </tr>\n",
       "    <tr>\n",
       "      <th>755168</th>\n",
       "      <td>amvp.pt</td>\n",
       "      <td>0</td>\n",
       "    </tr>\n",
       "    <tr>\n",
       "      <th>314230</th>\n",
       "      <td>webmail.mhcable.com/secure/www.paypal.com/webs...</td>\n",
       "      <td>0</td>\n",
       "    </tr>\n",
       "    <tr>\n",
       "      <th>346615</th>\n",
       "      <td>commons.wikimedia.org/wiki/File:POL_Virtuti_Mi...</td>\n",
       "      <td>1</td>\n",
       "    </tr>\n",
       "    <tr>\n",
       "      <th>428102</th>\n",
       "      <td>sports.yahoo.com/mma/blog/cagewriter/post/Migu...</td>\n",
       "      <td>1</td>\n",
       "    </tr>\n",
       "    <tr>\n",
       "      <th>733243</th>\n",
       "      <td>http://utsikta.com/po9840/Hand/index.htm</td>\n",
       "      <td>0</td>\n",
       "    </tr>\n",
       "  </tbody>\n",
       "</table>\n",
       "</div>"
      ],
      "text/plain": [
       "                                                      url  status\n",
       "70539                            https://www.icq-jcb.top/       0\n",
       "69318          https://smcb-crad.com-men-indxe.7odrog.cn/       0\n",
       "183589  https://pythonspot.com/en/python-network-socke...       1\n",
       "43783        https://jp-myappleuser.servehttp.com/?sopote       0\n",
       "48781                      http://saitama.ageo.me/tmps/5/       0\n",
       "755168                                            amvp.pt       0\n",
       "314230  webmail.mhcable.com/secure/www.paypal.com/webs...       0\n",
       "346615  commons.wikimedia.org/wiki/File:POL_Virtuti_Mi...       1\n",
       "428102  sports.yahoo.com/mma/blog/cagewriter/post/Migu...       1\n",
       "733243           http://utsikta.com/po9840/Hand/index.htm       0"
      ]
     },
     "execution_count": 3,
     "metadata": {},
     "output_type": "execute_result"
    }
   ],
   "source": [
    "df = pd.read_csv('new_data_urls.csv')\n",
    "df.sample(10)"
   ]
  },
  {
   "cell_type": "markdown",
   "id": "0a236862",
   "metadata": {},
   "source": [
    "**Размер датасета до предобработки:**"
   ]
  },
  {
   "cell_type": "code",
   "execution_count": 4,
   "id": "c289a0ca",
   "metadata": {},
   "outputs": [
    {
     "data": {
      "text/plain": [
       "(822010, 2)"
      ]
     },
     "execution_count": 4,
     "metadata": {},
     "output_type": "execute_result"
    }
   ],
   "source": [
    "df.shape"
   ]
  },
  {
   "cell_type": "markdown",
   "id": "931ff004",
   "metadata": {},
   "source": [
    "**Наличие пропущенных значений:**"
   ]
  },
  {
   "cell_type": "code",
   "execution_count": 5,
   "id": "d5360ed3",
   "metadata": {},
   "outputs": [
    {
     "data": {
      "application/vnd.microsoft.datawrangler.viewer.v0+json": {
       "columns": [
        {
         "name": "index",
         "rawType": "object",
         "type": "string"
        },
        {
         "name": "0",
         "rawType": "int64",
         "type": "integer"
        }
       ],
       "ref": "619e4bd8-6f05-421c-a099-ac55674fda06",
       "rows": [
        [
         "url",
         "0"
        ],
        [
         "status",
         "0"
        ]
       ],
       "shape": {
        "columns": 1,
        "rows": 2
       }
      },
      "text/plain": [
       "url       0\n",
       "status    0\n",
       "dtype: int64"
      ]
     },
     "execution_count": 5,
     "metadata": {},
     "output_type": "execute_result"
    }
   ],
   "source": [
    "df.isna().sum()"
   ]
  },
  {
   "cell_type": "markdown",
   "id": "e7f1801d",
   "metadata": {},
   "source": [
    "**Удаление дупликатов и размер датасета после удаления:**"
   ]
  },
  {
   "cell_type": "code",
   "execution_count": 6,
   "id": "e70da7bd",
   "metadata": {},
   "outputs": [
    {
     "data": {
      "text/plain": [
       "(795230, 2)"
      ]
     },
     "execution_count": 6,
     "metadata": {},
     "output_type": "execute_result"
    }
   ],
   "source": [
    "df.drop_duplicates(subset=['url'], keep=False, inplace=True)\n",
    "df.shape"
   ]
  },
  {
   "cell_type": "markdown",
   "id": "1ae89b16",
   "metadata": {},
   "source": [
    "**Измерение лейблов на противоположные (1 - фишинговые URL/ 0 - безопасные URL):**"
   ]
  },
  {
   "cell_type": "code",
   "execution_count": 7,
   "id": "57cf2775",
   "metadata": {},
   "outputs": [],
   "source": [
    "df.rename(columns={'status': 'label'}, inplace=True)"
   ]
  },
  {
   "cell_type": "code",
   "execution_count": 8,
   "id": "42b1d60e",
   "metadata": {},
   "outputs": [],
   "source": [
    "df['label'] = df['label'].replace({0: 1, 1: 0})"
   ]
  },
  {
   "cell_type": "markdown",
   "id": "3353c846",
   "metadata": {},
   "source": [
    "**Сбалансированность выборки:**"
   ]
  },
  {
   "cell_type": "code",
   "execution_count": 9,
   "id": "503598fe",
   "metadata": {},
   "outputs": [
    {
     "data": {
      "application/vnd.microsoft.datawrangler.viewer.v0+json": {
       "columns": [
        {
         "name": "label",
         "rawType": "int64",
         "type": "integer"
        },
        {
         "name": "proportion",
         "rawType": "float64",
         "type": "float"
        }
       ],
       "ref": "11cc40e0-a82c-4021-a517-f99c6fec7958",
       "rows": [
        [
         "0",
         "0.5369867836977982"
        ],
        [
         "1",
         "0.4630132163022019"
        ]
       ],
       "shape": {
        "columns": 1,
        "rows": 2
       }
      },
      "text/plain": [
       "label\n",
       "0    0.536987\n",
       "1    0.463013\n",
       "Name: proportion, dtype: float64"
      ]
     },
     "execution_count": 9,
     "metadata": {},
     "output_type": "execute_result"
    }
   ],
   "source": [
    "df['label'].value_counts(normalize=True)"
   ]
  },
  {
   "cell_type": "markdown",
   "id": "8d8712f4",
   "metadata": {},
   "source": [
    "**Feature Engineering:**"
   ]
  },
  {
   "cell_type": "code",
   "execution_count": null,
   "id": "d35ab98b",
   "metadata": {},
   "outputs": [],
   "source": [
    "class URLFeatureExtractor(BaseEstimator, TransformerMixin):\n",
    "    '''\n",
    "    Класс для извлечения признаков из URL-ов для машинного обучения\n",
    "    '''\n",
    "    def __init__(self):\n",
    "        '''\n",
    "        1. Инициализация класса\n",
    "        2. Задаем названия извлекаемых признаков\n",
    "        '''\n",
    "        self.feature_names_ = [\"url_length\",\n",
    "                               \"num_digits\",\n",
    "                               \"num_special_chars\",\n",
    "                               \"num_subdomains\",\n",
    "                               \"has_ip\",\n",
    "                               \"num_slashes\"]\n",
    "\n",
    "    def fit(self, X, y=None):\n",
    "        '''\n",
    "        Метод для обучения. Не делает ничего, возвращает сам себя\n",
    "        '''\n",
    "        return self\n",
    "    \n",
    "    def transform(self, X):\n",
    "        '''\n",
    "        Извлекаем признаки из X (колонка с URL-ами):\n",
    "\n",
    "        1. Парсим URL (при помощи функции parse_url)\n",
    "        2. Извлекаем признаки\n",
    "\n",
    "        Возвращаем DataFrame с этими признаками\n",
    "        '''\n",
    "        urls = X if isinstance(X, (list, np.ndarray, pd.Series)) else X['url']\n",
    "        features = []\n",
    "        for url in urls:\n",
    "            f = {}\n",
    "            # Длина URL\n",
    "            f['url_length'] = len(url)\n",
    "            # Количество цифр\n",
    "            f['num_digits'] = sum(c.isdigit() for c in url)\n",
    "            # Количество специальных символов (@?=&%)\n",
    "            f['num_special_chars'] = len(re.findall(r'[@?=&%]', url))\n",
    "            # Количество поддоменов\n",
    "            f['num_subdomains'] = url.count('.') - 1\n",
    "            # Есть ли IP‑адрес\n",
    "            f['has_ip'] = 1 if re.match(r'http[s]?://\\d+\\.\\d+\\.\\d+\\.\\d+', url) else 0\n",
    "            # Количество слэшей\n",
    "            f['num_slashes'] = url.count('/')\n",
    "            features.append(f)\n",
    "            \n",
    "        return pd.DataFrame(features)\n",
    "\n",
    "    def get_feature_names_out(self, input_features=None):\n",
    "        '''\n",
    "        Возвращаем список названий признаков\n",
    "        '''\n",
    "        return np.array(self.feature_names_)"
   ]
  },
  {
   "cell_type": "markdown",
   "id": "7cc17369",
   "metadata": {},
   "source": [
    "**Пайплайн предобработки данных с ручным отбором признаков, стандартизацией, TF-IDF:**"
   ]
  },
  {
   "cell_type": "code",
   "execution_count": null,
   "id": "bc17ec7b",
   "metadata": {},
   "outputs": [],
   "source": [
    "# Извлечение и масштабирование признаков\n",
    "url_features = Pipeline([('extract', URLFeatureExtractor()),\n",
    "                         ('scale', StandardScaler())])\n",
    "\n",
    "# Преобразование URL в TF-IDF признаки\n",
    "tfidf = TfidfVectorizer(analyzer='char', \n",
    "                        ngram_range=(3,5), \n",
    "                        max_features=5000)\n",
    "\n",
    "# Объединение в один преобразователь\n",
    "preprocessor = ColumnTransformer(transformers=[('features', url_features, 'url'),\n",
    "                                               ('tfidf', tfidf, 'url')])"
   ]
  },
  {
   "cell_type": "markdown",
   "id": "5dfa4ed4",
   "metadata": {},
   "source": [
    "**Разделение датасета на train и test:**"
   ]
  },
  {
   "cell_type": "code",
   "execution_count": 12,
   "id": "3fccadfc",
   "metadata": {},
   "outputs": [],
   "source": [
    "X_train, X_test, y_train, y_test = train_test_split(df[['url']], \n",
    "                                                    df['label'], \n",
    "                                                    test_size=0.3, \n",
    "                                                    random_state=42)"
   ]
  },
  {
   "cell_type": "markdown",
   "id": "6708b68c",
   "metadata": {},
   "source": [
    "**Определение размерности для нейронной сети:**"
   ]
  },
  {
   "cell_type": "code",
   "execution_count": 13,
   "id": "467dee00",
   "metadata": {},
   "outputs": [
    {
     "name": "stdout",
     "output_type": "stream",
     "text": [
      "Размерность после препроцессинга: (556661, 5006)\n"
     ]
    }
   ],
   "source": [
    "X_train_transformed = preprocessor.fit_transform(X_train)\n",
    "X_test_transformed = preprocessor.transform(X_test)\n",
    "\n",
    "print(\"Размерность после препроцессинга:\", X_train_transformed.shape)"
   ]
  },
  {
   "cell_type": "markdown",
   "id": "aa3d607a",
   "metadata": {},
   "source": [
    "**Архитектура нейронной сети:**"
   ]
  },
  {
   "cell_type": "code",
   "execution_count": null,
   "id": "5341d660",
   "metadata": {},
   "outputs": [],
   "source": [
    "input_dim = X_train_transformed.shape[1]\n",
    "\n",
    "def create_nn_model(input_dim):\n",
    "    '''\n",
    "    Создаем и компилируем нейронную сеть для бинарной классификации\n",
    "    '''\n",
    "    model = tf.keras.Sequential([tf.keras.layers.Input(shape=(input_dim,)),\n",
    "                                 tf.keras.layers.Dense(128, activation='relu'),\n",
    "                                 tf.keras.layers.Dropout(0.3),\n",
    "                                 tf.keras.layers.Dense(64, activation='relu'),\n",
    "                                 tf.keras.layers.Dense(1, activation='sigmoid')])\n",
    "    model.compile(optimizer='adam', \n",
    "                  loss='binary_crossentropy', \n",
    "                  metrics=['accuracy'])\n",
    "    return model\n",
    "\n",
    "nn_clf = KerasClassifier(model=create_nn_model,\n",
    "                         model__input_dim=input_dim,\n",
    "                         epochs=10,\n",
    "                         batch_size=16,\n",
    "                         verbose=0)"
   ]
  },
  {
   "cell_type": "markdown",
   "id": "9ced35eb",
   "metadata": {},
   "source": [
    "**Все модели:**"
   ]
  },
  {
   "cell_type": "code",
   "execution_count": 15,
   "id": "cc8fd706",
   "metadata": {},
   "outputs": [],
   "source": [
    "models = {\"Logistic Regression\": LogisticRegression(max_iter=5000, solver='saga', class_weight='balanced'),\n",
    "          \"Random Forest\": RandomForestClassifier(n_estimators=200, random_state=42),\n",
    "          \"SVM\": LinearSVC(class_weight='balanced', max_iter=5000),\n",
    "          \"Neural Network\": nn_clf}\n",
    "\n",
    "results = []\n",
    "roc_curves = {}"
   ]
  },
  {
   "cell_type": "markdown",
   "id": "2ede8847",
   "metadata": {},
   "source": [
    "**Обучение и оценка:**"
   ]
  },
  {
   "cell_type": "code",
   "execution_count": 16,
   "id": "82bb092a",
   "metadata": {},
   "outputs": [],
   "source": [
    "for name, clf in models.items():\n",
    "    pipe = Pipeline([('preprocessor', preprocessor),\n",
    "                     ('clf', clf)])\n",
    "    \n",
    "    pipe.fit(X_train, y_train)\n",
    "    y_pred = pipe.predict(X_test)\n",
    "    \n",
    "    # ROC-AUC\n",
    "    if hasattr(pipe.named_steps['clf'], \"predict_proba\"):\n",
    "        y_proba = pipe.predict_proba(X_test)\n",
    "        if y_proba.ndim > 1 and y_proba.shape[1] > 1:\n",
    "            y_proba = y_proba[:, 1]\n",
    "        else:\n",
    "            y_proba = y_proba.ravel()\n",
    "    else:\n",
    "        try:\n",
    "            y_proba = pipe.decision_function(X_test)\n",
    "        except:\n",
    "            y_proba = y_pred\n",
    "    \n",
    "    results.append({\"Model\": name,\n",
    "                    \"Accuracy\": accuracy_score(y_test, y_pred),\n",
    "                    \"Precision\": precision_score(y_test, y_pred, pos_label=1),\n",
    "                    \"Recall\": recall_score(y_test, y_pred, pos_label=1),\n",
    "                    \"F1\": f1_score(y_test, y_pred, pos_label=1),\n",
    "                    \"ROC-AUC\": roc_auc_score(y_test, y_proba)})\n",
    "    \n",
    "    fpr, tpr, _ = roc_curve(y_test, y_proba)\n",
    "    roc_curves[name] = (fpr, tpr)"
   ]
  },
  {
   "cell_type": "markdown",
   "id": "f2e10426",
   "metadata": {},
   "source": [
    "**Таблица с результатами по каждой модели:**"
   ]
  },
  {
   "cell_type": "code",
   "execution_count": 17,
   "id": "ce6b7585",
   "metadata": {},
   "outputs": [
    {
     "name": "stdout",
     "output_type": "stream",
     "text": [
      "                 Model  Accuracy  Precision    Recall        F1   ROC-AUC\n",
      "0  Logistic Regression  0.953498   0.954962  0.943622  0.949258  0.989534\n",
      "1        Random Forest  0.971258   0.974332  0.963018  0.968642  0.995758\n",
      "2                  SVM  0.959207   0.960078  0.951051  0.955543  0.991707\n",
      "3       Neural Network  0.977692   0.974612  0.977058  0.975833  0.997229\n"
     ]
    }
   ],
   "source": [
    "results_df = pd.DataFrame(results)\n",
    "print(results_df)"
   ]
  },
  {
   "cell_type": "markdown",
   "id": "59b847fb",
   "metadata": {},
   "source": [
    "**Barplot по F1 каждой модели:**"
   ]
  },
  {
   "cell_type": "code",
   "execution_count": null,
   "id": "d0f2ab1c",
   "metadata": {},
   "outputs": [
    {
     "data": {
      "image/png": "[encoded data removed]",
      "text/plain": [
       "<Figure size 800x600 with 1 Axes>"
      ]
     },
     "metadata": {},
     "output_type": "display_data"
    }
   ],
   "source": [
    "plt.figure(figsize=(8, 6))\n",
    "sns.barplot(x=\"Model\", y=\"F1\", \n",
    "            data=results_df, \n",
    "            hue='Model', \n",
    "            palette=\"viridis\", \n",
    "            legend=False)\n",
    "\n",
    "for i, v in enumerate(results_df[\"F1\"]):\n",
    "    plt.text(i, v + 0.01, f\"{v:.2f}\", ha='center')\n",
    "plt.title(\"Сравнение моделей по F1-score\")\n",
    "plt.ylim(0, 1.05)\n",
    "\n",
    "plt.show()"
   ]
  },
  {
   "cell_type": "markdown",
   "id": "59a5dbf2",
   "metadata": {},
   "source": [
    "**Confusion matrix для всех моделей:**"
   ]
  },
  {
   "cell_type": "code",
   "execution_count": 26,
   "id": "7ed1b365",
   "metadata": {},
   "outputs": [
    {
     "data": {
      "image/png": "[encoded data removed]",
      "text/plain": [
       "<Figure size 1000x1000 with 4 Axes>"
      ]
     },
     "metadata": {},
     "output_type": "display_data"
    }
   ],
   "source": [
    "fig, axes = plt.subplots(2, 2, figsize=(10, 10))\n",
    "\n",
    "for ax, (name, clf) in zip(axes.flatten(), models.items()):\n",
    "    # Пайплайн: препроцессор + модель\n",
    "    pipe = Pipeline([(\"preprocessor\", preprocessor), (\"clf\", clf)])\n",
    "    pipe.fit(X_train, y_train)\n",
    "    y_pred = pipe.predict(X_test)\n",
    "\n",
    "    # Confusion matrix\n",
    "    cm = confusion_matrix(y_test, y_pred)\n",
    "    disp = ConfusionMatrixDisplay(confusion_matrix=cm, display_labels=pipe.classes_)\n",
    "    disp.plot(ax=ax, cmap=\"Blues\", values_format=\"d\", colorbar=False)\n",
    "    ax.set_title(name)\n",
    "\n",
    "plt.tight_layout()\n",
    "plt.show()"
   ]
  },
  {
   "cell_type": "markdown",
   "id": "28e2b01c",
   "metadata": {},
   "source": [
    "**ROC-кривые каждой модели:**"
   ]
  },
  {
   "cell_type": "code",
   "execution_count": 19,
   "id": "4b83cf80",
   "metadata": {},
   "outputs": [
    {
     "data": {
      "image/png": "[encoded data removed]",
      "text/plain": [
       "<Figure size 800x600 with 1 Axes>"
      ]
     },
     "metadata": {},
     "output_type": "display_data"
    }
   ],
   "source": [
    "plt.figure(figsize=(8, 6))\n",
    "\n",
    "for name, (fpr, tpr) in roc_curves.items():\n",
    "    plt.plot(fpr, tpr, label=name)\n",
    "plt.plot([0, 1], [0, 1], 'k--')\n",
    "plt.xlabel(\"False Positive Rate\")\n",
    "plt.ylabel(\"True Positive Rate\")\n",
    "plt.title(\"ROC-кривые моделей\")\n",
    "plt.legend()\n",
    "\n",
    "plt.show()"
   ]
  },
  {
   "cell_type": "markdown",
   "id": "55ec5d59",
   "metadata": {},
   "source": [
    "Для упрощения процесса интерпретации результатов берем модель **Random Forest**."
   ]
  }
 ],
 "metadata": {
  "kernelspec": {
   "display_name": "ml_env",
   "language": "python",
   "name": "python3"
  },
  "language_info": {
   "codemirror_mode": {
    "name": "ipython",
    "version": 3
   },
   "file_extension": ".py",
   "mimetype": "text/x-python",
   "name": "python",
   "nbconvert_exporter": "python",
   "pygments_lexer": "ipython3",
   "version": "3.10.11"
  }
 },
 "nbformat": 4,
 "nbformat_minor": 5
}
